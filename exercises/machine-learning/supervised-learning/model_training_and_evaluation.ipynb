{
  "cells": [
    {
      "cell_type": "markdown",
      "metadata": {
        "id": "view-in-github",
        "colab_type": "text"
      },
      "source": [
        "<a href=\"https://colab.research.google.com/github/Yator8080/Learning/blob/main/exercises/machine-learning/supervised-learning/model_training_and_evaluation.ipynb\" target=\"_parent\"><img src=\"https://colab.research.google.com/assets/colab-badge.svg\" alt=\"Open In Colab\"/></a>"
      ]
    },
    {
      "cell_type": "markdown",
      "id": "korean-wednesday",
      "metadata": {
        "id": "korean-wednesday"
      },
      "source": [
        "# Model Training and Evaluation\n",
        "You should build a machine learning pipeline with a complete model training and evaluation step. In particular, you should do the following:\n",
        "- Load the `mnist` dataset using [Pandas](https://pandas.pydata.org/docs/reference/api/pandas.read_csv.html). You can find this dataset in the datasets folder.\n",
        "- Split the dataset into training and test sets using [Scikit-Learn](https://scikit-learn.org/stable/modules/generated/sklearn.model_selection.train_test_split.html).\n",
        "- Conduct data exploration, data preprocessing, and feature engineering if necessary.\n",
        "- Choose a few machine learning algorithms, such as [KNN](https://scikit-learn.org/stable/modules/generated/sklearn.neighbors.KNeighborsClassifier.html), [decision tree](https://scikit-learn.org/stable/modules/generated/sklearn.tree.DecisionTreeClassifier.html), and [gradient boosting](https://scikit-learn.org/stable/modules/generated/sklearn.ensemble.GradientBoostingClassifier.html).\n",
        "- Define a grid of hyperparameters for every selected model.\n",
        "- Conduct [grid search](https://scikit-learn.org/stable/modules/generated/sklearn.model_selection.GridSearchCV.html) or [random search](https://scikit-learn.org/stable/modules/generated/sklearn.model_selection.RandomizedSearchCV.html) using k-fold cross-validation on the training set to find out the best model (i.e., the best algorithm and its hyperparameters).\n",
        "- Train the best model on the whole training set.\n",
        "- Test the trained model on the test set and report various [evaluation metrics](https://scikit-learn.org/0.15/modules/model_evaluation.html).  \n",
        "- Check the documentation to identify the most important hyperparameters, attributes, and methods. Use them in practice."
      ]
    },
    {
      "cell_type": "markdown",
      "source": [
        "Import Relevant Libraries"
      ],
      "metadata": {
        "id": "XpsEYUT9gkvh"
      },
      "id": "XpsEYUT9gkvh"
    },
    {
      "cell_type": "code",
      "source": [
        "import pandas as pd\n",
        "import numpy as np\n",
        "from sklearn.model_selection import train_test_split\n",
        "from sklearn.neighbors import KNeighborsClassifier\n",
        "from sklearn.tree import DecisionTreeClassifier\n",
        "from sklearn.ensemble import GradientBoostingClassifier\n",
        "from sklearn.model_selection import GridSearchCV\n",
        "from sklearn.metrics import accuracy_score, precision_score, recall_score, f1_score"
      ],
      "metadata": {
        "id": "2dnEbn23gday"
      },
      "id": "2dnEbn23gday",
      "execution_count": 37,
      "outputs": []
    },
    {
      "cell_type": "markdown",
      "source": [
        "Load the data"
      ],
      "metadata": {
        "id": "s0w8bWc2giNi"
      },
      "id": "s0w8bWc2giNi"
    },
    {
      "cell_type": "code",
      "source": [
        "mnist_data = pd.read_csv('https://raw.githubusercontent.com/m-mahdavi/teaching/refs/heads/main/datasets/mnist.csv')\n",
        "#Display number of rows and co,umns\n",
        "mnist_data.shape"
      ],
      "metadata": {
        "id": "TkKWAUE9gkE5",
        "outputId": "149441c3-f8e4-40d8-e9f6-f4d4b00b535f",
        "colab": {
          "base_uri": "https://localhost:8080/"
        }
      },
      "id": "TkKWAUE9gkE5",
      "execution_count": 38,
      "outputs": [
        {
          "output_type": "execute_result",
          "data": {
            "text/plain": [
              "(4000, 786)"
            ]
          },
          "metadata": {},
          "execution_count": 38
        }
      ]
    },
    {
      "cell_type": "markdown",
      "source": [
        "Split Data into Training and Testing"
      ],
      "metadata": {
        "id": "_sjp1F0RhBSi"
      },
      "id": "_sjp1F0RhBSi"
    },
    {
      "cell_type": "code",
      "source": [
        "#Drop unnecessary data i.e ID\n",
        "mnist_data = mnist_data.drop('id', axis=1)\n",
        "#Split into training and Testing\n",
        "X = mnist_data.drop('class', axis=1)\n",
        "y = mnist_data['class']\n",
        "X_train, X_test, y_train, y_test = train_test_split(X, y, test_size=0.25, random_state=42)\n",
        "#Displaying number of rows and columns\n",
        "print(f'X_train shape: {X_train.shape}')\n",
        "print(f'X_test shape: {X_test.shape}')"
      ],
      "metadata": {
        "id": "mJBX-VhAg_zo",
        "outputId": "daac69e0-1b38-4dca-b4f3-d266cbd91046",
        "colab": {
          "base_uri": "https://localhost:8080/"
        }
      },
      "id": "mJBX-VhAg_zo",
      "execution_count": 39,
      "outputs": [
        {
          "output_type": "stream",
          "name": "stdout",
          "text": [
            "X_train shape: (3000, 784)\n",
            "X_test shape: (1000, 784)\n"
          ]
        }
      ]
    },
    {
      "cell_type": "code",
      "source": [
        "# Step 5: Preprocessing - Standardizing the Features\n",
        "from sklearn.preprocessing import StandardScaler\n",
        "\n",
        "scaler = StandardScaler()\n",
        "X_train = scaler.fit_transform(X_train)\n",
        "X_test = scaler.transform(X_test)"
      ],
      "metadata": {
        "id": "ZlbrcOHL6eOd"
      },
      "execution_count": 40,
      "outputs": [],
      "id": "ZlbrcOHL6eOd"
    },
    {
      "cell_type": "markdown",
      "source": [
        "KNN Training and Evaluation"
      ],
      "metadata": {
        "id": "w3qAAydak7On"
      },
      "id": "w3qAAydak7On"
    },
    {
      "cell_type": "code",
      "source": [
        "#Train KNN\n",
        "knn = KNeighborsClassifier()\n",
        "knn.fit(X_train, y_train)\n",
        "\n",
        "#Model Evaluation\n",
        "y_pred = knn.predict(X_test)\n",
        "accuracy = accuracy_score(y_test, y_pred)\n",
        "precision = precision_score(y_test, y_pred, average='weighted')\n",
        "recall = recall_score(y_test, y_pred, average='weighted')\n",
        "f1 = f1_score(y_test, y_pred, average='weighted')\n",
        "\n",
        "print(f\"Accuracy: {accuracy}\")\n",
        "print(f\"Precision: {precision}\")\n",
        "print(f\"Recall: {recall}\")\n",
        "print(f\"F1 Score: {f1}\")"
      ],
      "metadata": {
        "id": "V9a7Oxjok5v5",
        "outputId": "1cc3b3c4-2201-48e4-be4d-93e76ccb47ea",
        "colab": {
          "base_uri": "https://localhost:8080/"
        }
      },
      "id": "V9a7Oxjok5v5",
      "execution_count": 41,
      "outputs": [
        {
          "output_type": "stream",
          "name": "stdout",
          "text": [
            "Accuracy: 0.876\n",
            "Precision: 0.8775480441936646\n",
            "Recall: 0.876\n",
            "F1 Score: 0.8752053486739853\n"
          ]
        }
      ]
    },
    {
      "cell_type": "markdown",
      "source": [
        "Decision Trees training and Evaluation"
      ],
      "metadata": {
        "id": "GjCYD1DjlBDx"
      },
      "id": "GjCYD1DjlBDx"
    },
    {
      "cell_type": "code",
      "source": [
        "DecTree = DecisionTreeClassifier()\n",
        "DecTree.fit(X_train, y_train)\n",
        "\n",
        "#Model Testing\n",
        "y_pred = DecTree.predict(X_test) #Do not touch Test\n",
        "accuracy = accuracy_score(y_test, y_pred)\n",
        "precision = precision_score(y_test, y_pred, average='weighted')\n",
        "recall = recall_score(y_test, y_pred, average='weighted')\n",
        "f1 = f1_score(y_test, y_pred, average='weighted')\n",
        "#Remove Tset use best_score\n",
        "print(f\"Accuracy: {accuracy}\")\n",
        "print(f\"Precision: {precision}\")\n",
        "print(f\"Recall: {recall}\")\n",
        "print(f\"F1 Score: {f1}\")\n"
      ],
      "metadata": {
        "id": "2L7flYNrlc4J",
        "outputId": "b11bf677-080f-4830-a57c-1322d27efb44",
        "colab": {
          "base_uri": "https://localhost:8080/"
        }
      },
      "id": "2L7flYNrlc4J",
      "execution_count": 43,
      "outputs": [
        {
          "output_type": "stream",
          "name": "stdout",
          "text": [
            "Accuracy: 0.735\n",
            "Precision: 0.7413281961685656\n",
            "Recall: 0.735\n",
            "F1 Score: 0.7370982854405171\n"
          ]
        }
      ]
    },
    {
      "cell_type": "code",
      "source": [],
      "metadata": {
        "id": "sLH7TaeTnx8H"
      },
      "id": "sLH7TaeTnx8H",
      "execution_count": null,
      "outputs": []
    }
  ],
  "metadata": {
    "kernelspec": {
      "display_name": "Python 3",
      "language": "python",
      "name": "python3"
    },
    "language_info": {
      "codemirror_mode": {
        "name": "ipython",
        "version": 3
      },
      "file_extension": ".py",
      "mimetype": "text/x-python",
      "name": "python",
      "nbconvert_exporter": "python",
      "pygments_lexer": "ipython3",
      "version": "3.8.5"
    },
    "colab": {
      "provenance": [],
      "include_colab_link": true
    }
  },
  "nbformat": 4,
  "nbformat_minor": 5
}